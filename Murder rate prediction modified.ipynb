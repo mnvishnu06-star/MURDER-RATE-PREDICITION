{
 "cells": [
  {
   "cell_type": "markdown",
   "id": "eb95df09-83ff-4b2d-943b-77b66613aabd",
   "metadata": {},
   "source": [
    "# Murder Predication In Kerala (2026-2030 )"
   ]
  },
  {
   "cell_type": "markdown",
   "id": "7880b10a-a5e7-4479-9672-6cc2818f18a7",
   "metadata": {},
   "source": [
    "## STEP 1: IMPORT LIBRARIES"
   ]
  },
  {
   "cell_type": "code",
   "execution_count": 2,
   "id": "8fc88ed8-5e6f-48bf-9723-dbc801c6a30c",
   "metadata": {},
   "outputs": [],
   "source": [
    "import pandas as pd\n",
    "import matplotlib.pyplot as plt\n",
    "from statsmodels.tsa.stattools import adfuller\n",
    "from statsmodels.tsa.arima.model import ARIMA\n",
    "from statsmodels.tsa.statespace.sarimax import SARIMAX\n"
   ]
  },
  {
   "cell_type": "markdown",
   "id": "6ee2cf50-280f-4acb-b6a7-d87a71a455a3",
   "metadata": {},
   "source": [
    "## STEP 2 : LOADING DATA"
   ]
  },
  {
   "cell_type": "code",
   "execution_count": 3,
   "id": "b775fced-9796-457b-b19d-8df01a4e6d72",
   "metadata": {},
   "outputs": [
    {
     "data": {
      "text/html": [
       "<div>\n",
       "<style scoped>\n",
       "    .dataframe tbody tr th:only-of-type {\n",
       "        vertical-align: middle;\n",
       "    }\n",
       "\n",
       "    .dataframe tbody tr th {\n",
       "        vertical-align: top;\n",
       "    }\n",
       "\n",
       "    .dataframe thead th {\n",
       "        text-align: right;\n",
       "    }\n",
       "</style>\n",
       "<table border=\"1\" class=\"dataframe\">\n",
       "  <thead>\n",
       "    <tr style=\"text-align: right;\">\n",
       "      <th></th>\n",
       "      <th>Crime Heads</th>\n",
       "      <th>2016</th>\n",
       "      <th>2017</th>\n",
       "      <th>2018</th>\n",
       "      <th>2019</th>\n",
       "      <th>2020</th>\n",
       "      <th>2021</th>\n",
       "      <th>2022</th>\n",
       "      <th>2023</th>\n",
       "      <th>2024</th>\n",
       "      <th>2025 (Up to June)</th>\n",
       "    </tr>\n",
       "  </thead>\n",
       "  <tbody>\n",
       "    <tr>\n",
       "      <th>0</th>\n",
       "      <td>Murder</td>\n",
       "      <td>305</td>\n",
       "      <td>305</td>\n",
       "      <td>292</td>\n",
       "      <td>323</td>\n",
       "      <td>306</td>\n",
       "      <td>337</td>\n",
       "      <td>334</td>\n",
       "      <td>352</td>\n",
       "      <td>335</td>\n",
       "      <td>174</td>\n",
       "    </tr>\n",
       "    <tr>\n",
       "      <th>1</th>\n",
       "      <td>Attempt to commit murder</td>\n",
       "      <td>622</td>\n",
       "      <td>583</td>\n",
       "      <td>672</td>\n",
       "      <td>729</td>\n",
       "      <td>610</td>\n",
       "      <td>600</td>\n",
       "      <td>700</td>\n",
       "      <td>991</td>\n",
       "      <td>1101</td>\n",
       "      <td>476</td>\n",
       "    </tr>\n",
       "    <tr>\n",
       "      <th>2</th>\n",
       "      <td>CH not amounting to murder</td>\n",
       "      <td>132</td>\n",
       "      <td>112</td>\n",
       "      <td>90</td>\n",
       "      <td>93</td>\n",
       "      <td>84</td>\n",
       "      <td>78</td>\n",
       "      <td>94</td>\n",
       "      <td>120</td>\n",
       "      <td>96</td>\n",
       "      <td>48</td>\n",
       "    </tr>\n",
       "    <tr>\n",
       "      <th>3</th>\n",
       "      <td>Rape</td>\n",
       "      <td>1656</td>\n",
       "      <td>2003</td>\n",
       "      <td>2005</td>\n",
       "      <td>2023</td>\n",
       "      <td>1880</td>\n",
       "      <td>2339</td>\n",
       "      <td>2518</td>\n",
       "      <td>2562</td>\n",
       "      <td>2091</td>\n",
       "      <td>1491</td>\n",
       "    </tr>\n",
       "    <tr>\n",
       "      <th>4</th>\n",
       "      <td>Kidnapping &amp; abduction</td>\n",
       "      <td>241</td>\n",
       "      <td>293</td>\n",
       "      <td>297</td>\n",
       "      <td>386</td>\n",
       "      <td>307</td>\n",
       "      <td>364</td>\n",
       "      <td>403</td>\n",
       "      <td>306</td>\n",
       "      <td>231</td>\n",
       "      <td>111</td>\n",
       "    </tr>\n",
       "  </tbody>\n",
       "</table>\n",
       "</div>"
      ],
      "text/plain": [
       "                  Crime Heads  2016  2017  2018  2019  2020  2021  2022  2023  \\\n",
       "0                      Murder   305   305   292   323   306   337   334   352   \n",
       "1    Attempt to commit murder   622   583   672   729   610   600   700   991   \n",
       "2  CH not amounting to murder   132   112    90    93    84    78    94   120   \n",
       "3                        Rape  1656  2003  2005  2023  1880  2339  2518  2562   \n",
       "4      Kidnapping & abduction   241   293   297   386   307   364   403   306   \n",
       "\n",
       "   2024  2025 (Up to June)  \n",
       "0   335                174  \n",
       "1  1101                476  \n",
       "2    96                 48  \n",
       "3  2091               1491  \n",
       "4   231                111  "
      ]
     },
     "execution_count": 3,
     "metadata": {},
     "output_type": "execute_result"
    }
   ],
   "source": [
    "df= pd.read_csv('keralacrimerate.csv')\n",
    "df.head()"
   ]
  },
  {
   "cell_type": "code",
   "execution_count": 4,
   "id": "2ea92548-f2b8-4c41-93c0-c499f03b44d0",
   "metadata": {},
   "outputs": [
    {
     "name": "stdout",
     "output_type": "stream",
     "text": [
      "<class 'pandas.core.frame.DataFrame'>\n",
      "RangeIndex: 21 entries, 0 to 20\n",
      "Data columns (total 11 columns):\n",
      " #   Column             Non-Null Count  Dtype \n",
      "---  ------             --------------  ----- \n",
      " 0   Crime Heads        21 non-null     object\n",
      " 1   2016               21 non-null     int64 \n",
      " 2   2017               21 non-null     int64 \n",
      " 3   2018               21 non-null     int64 \n",
      " 4   2019               21 non-null     int64 \n",
      " 5   2020               21 non-null     int64 \n",
      " 6   2021               21 non-null     int64 \n",
      " 7   2022               21 non-null     int64 \n",
      " 8   2023               21 non-null     int64 \n",
      " 9   2024               21 non-null     int64 \n",
      " 10  2025 (Up to June)  21 non-null     int64 \n",
      "dtypes: int64(10), object(1)\n",
      "memory usage: 1.9+ KB\n"
     ]
    }
   ],
   "source": [
    "df.info()"
   ]
  },
  {
   "cell_type": "markdown",
   "id": "3957402c-d1bf-4b79-91eb-f76c898cd291",
   "metadata": {},
   "source": [
    "## STEP 3: PREPROCESSING"
   ]
  },
  {
   "cell_type": "code",
   "execution_count": 5,
   "id": "6e621e85-ba2e-4ef0-a02b-f483cd69acae",
   "metadata": {},
   "outputs": [
    {
     "name": "stdout",
     "output_type": "stream",
     "text": [
      "      Murder\n",
      "Year        \n",
      "2016     305\n",
      "2017     305\n",
      "2018     292\n",
      "2019     323\n",
      "2020     306\n",
      "2021     337\n",
      "2022     334\n",
      "2023     352\n",
      "2024     335\n"
     ]
    }
   ],
   "source": [
    "\n",
    "# Keep only the \"Murder\" row\n",
    "murder = df[df[\"Crime Heads\"] == \"Murder\"].drop(\"Crime Heads\", axis=1)\n",
    "\n",
    "\n",
    "# Transpose to make years as rows\n",
    "murder = murder.T\n",
    "murder.columns = [\"Murder\"]\n",
    "\n",
    "# Fix Year column\n",
    "murder.index.name = \"Year\"\n",
    "murder.reset_index(inplace=True)\n",
    "murder[\"Year\"] = murder[\"Year\"].str.replace(\" (Up to June)\", \"\", regex=False).astype(int)\n",
    "\n",
    "\n",
    "# Drop 2025 (partial data)\n",
    "murder = murder[murder[\"Year\"] != 2025]\n",
    "\n",
    "# Final time series\n",
    "murder.set_index(\"Year\", inplace=True)\n",
    "print(murder)\n"
   ]
  },
  {
   "cell_type": "markdown",
   "id": "387c4186-f7fc-4ad5-a25d-0bf6f3be989b",
   "metadata": {},
   "source": [
    "## STEP 4:  E D A"
   ]
  },
  {
   "cell_type": "code",
   "execution_count": 6,
   "id": "8b9a4b07-651a-4ba4-b374-6821b0d825c1",
   "metadata": {},
   "outputs": [
    {
     "data": {
      "image/png": "[encoded data removed]",
      "text/plain": [
       "<Figure size 640x480 with 1 Axes>"
      ]
     },
     "metadata": {},
     "output_type": "display_data"
    }
   ],
   "source": [
    "\n",
    "\n",
    "murder.plot(marker='o', legend=False)\n",
    "plt.title(\"Murder Cases in Kerala (2016–2024)\")\n",
    "plt.xlabel(\"Year\")\n",
    "plt.ylabel(\"Murder Cases\")\n",
    "plt.grid(True)\n",
    "plt.show()\n"
   ]
  },
  {
   "cell_type": "markdown",
   "id": "1c1b36e0-75b1-46df-b668-0c38d59b36ad",
   "metadata": {},
   "source": [
    "## STEP 5: CHECK STATIONARITY "
   ]
  },
  {
   "cell_type": "code",
   "execution_count": 17,
   "id": "39f266c6-7972-407f-b25b-87ae350a7d77",
   "metadata": {},
   "outputs": [
    {
     "name": "stdout",
     "output_type": "stream",
     "text": [
      "ADF Statistic: -0.07479116091902213\n",
      "p-value: 0.9518922605497828\n"
     ]
    }
   ],
   "source": [
    "\n",
    "\n",
    "result = adfuller(murder[\"Murder\"])\n",
    "\n",
    "print(\"ADF Statistic:\", result[0])\n",
    "print(\"p-value:\", result[1])\n"
   ]
  },
  {
   "cell_type": "markdown",
   "id": "03b21180-e71c-4d34-8eea-812b884a7db3",
   "metadata": {},
   "source": [
    "### Key Note:\n",
    "\n",
    "* The ADF statistic is -0.075 with a p-value of 0.952.\n",
    "* Since the p-value is greater than 0.05, the data is non-stationary.\n",
    "* We need to difference the data to make it stationary before modeling."
   ]
  },
  {
   "cell_type": "markdown",
   "id": "4c92c02b-b331-48a0-9629-58372269156a",
   "metadata": {},
   "source": [
    "## STEP 6: DIFFERENCING THE SERIES TO ACHIEVE STATIONARITY"
   ]
  },
  {
   "cell_type": "code",
   "execution_count": 33,
   "id": "4776ef2f-be97-4519-a551-1326bcfb78a7",
   "metadata": {},
   "outputs": [
    {
     "name": "stdout",
     "output_type": "stream",
     "text": [
      "\n",
      "After Differencing:\n",
      "ADF Statistic: -6.46673374916844\n",
      "p-value: 1.3992357479862034e-08\n"
     ]
    }
   ],
   "source": [
    " # Select the series (Murder cases)\n",
    "\n",
    "series = murder['Murder'] ## This line selects the 'Murder' column from the dataset and stores it as a series for analysis.\n",
    "  \n",
    "series_diff = series.diff().dropna()##  This line calculates the difference between consecutive values \n",
    "                                    ##  in the series and removes any missing values to help make the data stationary.\n",
    "\n",
    "# Run ADF Test Again on Differenced Series\n",
    "result_diff = adfuller(series_diff)\n",
    "print(\"\\nAfter Differencing:\")\n",
    "print(\"ADF Statistic:\", result_diff[0])\n",
    "print(\"p-value:\", result_diff[1])"
   ]
  },
  {
   "cell_type": "markdown",
   "id": "4168dfaf-a8a1-49c5-a8c5-9090fd4f04ee",
   "metadata": {},
   "source": [
    "### Key Notes\n",
    "\n",
    "* After differencing, ADF statistic = -6.467\n",
    "* p-value ≈ 0 (much less than 0.05)\n",
    "* Result: Series is stationary\n",
    "* Implication: Data is ready for time series modeling (trend removed)"
   ]
  },
  {
   "cell_type": "markdown",
   "id": "aef16c1b-944f-4c30-8a32-125dc380eb73",
   "metadata": {},
   "source": [
    "## STEP 7: EVALUATING ACF AND PACF PLOTS FOR ARIMA MODELING"
   ]
  },
  {
   "cell_type": "code",
   "execution_count": 31,
   "id": "90f453f5-c638-4b1c-8a9f-53161229acc4",
   "metadata": {},
   "outputs": [
    {
     "data": {
      "text/plain": [
       "<Figure size 1200x600 with 0 Axes>"
      ]
     },
     "metadata": {},
     "output_type": "display_data"
    },
    {
     "data": {
      "image/png": "[encoded data removed]",
      "text/plain": [
       "<Figure size 640x480 with 1 Axes>"
      ]
     },
     "metadata": {},
     "output_type": "display_data"
    },
    {
     "data": {
      "image/png": "[encoded data removed]",
      "text/plain": [
       "<Figure size 640x480 with 1 Axes>"
      ]
     },
     "metadata": {},
     "output_type": "display_data"
    }
   ],
   "source": [
    "\n",
    "from statsmodels.graphics.tsaplots import plot_acf, plot_pacf\n",
    "\n",
    "# Differenced series\n",
    "series_diff = murder['Murder'].diff().dropna()\n",
    "\n",
    "# PACF limit: max lags = 50% of series length\n",
    "max_lags = max(1, len(series_diff)//2)\n",
    "\n",
    "# Plot ACF and PACF\n",
    "plt.figure(figsize=(12,6))\n",
    "\n",
    "plot_acf(series_diff, lags=max_lags)\n",
    "plt.title(\"ACF\")\n",
    "\n",
    "plot_pacf(series_diff, lags=max_lags, method='ywm')\n",
    "plt.title(\"PACF\")\n",
    "\n",
    "plt.tight_layout()\n",
    "plt.show()\n",
    "\n"
   ]
  },
  {
   "cell_type": "markdown",
   "id": "243aba2e-0a27-48bf-8721-71fdeec9b2e6",
   "metadata": {},
   "source": [
    "### Top Plot (ACF):\n",
    "\n",
    "* Shows how the current value is related to past values.\n",
    "* Big spikes at lag 0 and 2 → these past points are strongly related to the current value.\n",
    "\n",
    "### Bottom Plot (PACF):\n",
    "\n",
    "* Shows the direct relationship with past values, ignoring other lags.\n",
    "* Big spike at lag 1 → the first past value is very important.\n",
    "\n",
    "### Key Note\n",
    "\n",
    "* ACF → helps decide MA (moving average) part of ARIMA\n",
    "* PACF → helps decide AR (autoregressive) part of ARIMA\n",
    "* Series is now stable (stationary) → ready for ARIMA modeling."
   ]
  },
  {
   "cell_type": "markdown",
   "id": "0d476199-e715-4ed1-9566-e70665f5bd6e",
   "metadata": {},
   "source": [
    "## STEP 8: ARIMA MODEL & FORCAST"
   ]
  },
  {
   "cell_type": "code",
   "execution_count": 18,
   "id": "88b130f0-f831-405b-a6ec-78f636d87b4e",
   "metadata": {},
   "outputs": [
    {
     "name": "stdout",
     "output_type": "stream",
     "text": [
      "                               SARIMAX Results                                \n",
      "==============================================================================\n",
      "Dep. Variable:                 Murder   No. Observations:                    9\n",
      "Model:                 ARIMA(1, 1, 1)   Log Likelihood                 -32.141\n",
      "Date:                Sun, 24 Aug 2025   AIC                             70.281\n",
      "Time:                        22:19:18   BIC                             70.520\n",
      "Sample:                             0   HQIC                            68.674\n",
      "                                  - 9                                         \n",
      "Covariance Type:                  opg                                         \n",
      "==============================================================================\n",
      "                 coef    std err          z      P>|z|      [0.025      0.975]\n",
      "------------------------------------------------------------------------------\n",
      "ar.L1         -1.0000      0.003   -307.448      0.000      -1.006      -0.994\n",
      "ma.L1          0.9917      0.759      1.307      0.191      -0.495       2.479\n",
      "sigma2       128.1887      0.006   2.15e+04      0.000     128.177     128.200\n",
      "===================================================================================\n",
      "Ljung-Box (L1) (Q):                   1.92   Jarque-Bera (JB):                 0.58\n",
      "Prob(Q):                              0.17   Prob(JB):                         0.75\n",
      "Heteroskedasticity (H):               0.30   Skew:                             0.31\n",
      "Prob(H) (two-sided):                  0.34   Kurtosis:                         1.83\n",
      "===================================================================================\n",
      "\n",
      "Warnings:\n",
      "[1] Covariance matrix calculated using the outer product of gradients (complex-step).\n",
      "[2] Covariance matrix is singular or near-singular, with condition number 4.16e+19. Standard errors may be unstable.\n",
      "Predicted Murder Cases for 2026: 350.261089183269\n",
      "9    350.261089\n",
      "dtype: float64\n"
     ]
    },
    {
     "name": "stderr",
     "output_type": "stream",
     "text": [
      "C:\\Users\\VISHNU MN\\anaconda3\\Lib\\site-packages\\statsmodels\\tsa\\base\\tsa_model.py:473: ValueWarning: An unsupported index was provided and will be ignored when e.g. forecasting.\n",
      "  self._init_dates(dates, freq)\n",
      "C:\\Users\\VISHNU MN\\anaconda3\\Lib\\site-packages\\statsmodels\\tsa\\base\\tsa_model.py:473: ValueWarning: An unsupported index was provided and will be ignored when e.g. forecasting.\n",
      "  self._init_dates(dates, freq)\n",
      "C:\\Users\\VISHNU MN\\anaconda3\\Lib\\site-packages\\statsmodels\\tsa\\base\\tsa_model.py:473: ValueWarning: An unsupported index was provided and will be ignored when e.g. forecasting.\n",
      "  self._init_dates(dates, freq)\n",
      "C:\\Users\\VISHNU MN\\anaconda3\\Lib\\site-packages\\statsmodels\\base\\model.py:607: ConvergenceWarning: Maximum Likelihood optimization failed to converge. Check mle_retvals\n",
      "  warnings.warn(\"Maximum Likelihood optimization failed to \"\n",
      "C:\\Users\\VISHNU MN\\anaconda3\\Lib\\site-packages\\statsmodels\\tsa\\base\\tsa_model.py:836: ValueWarning: No supported index is available. Prediction results will be given with an integer index beginning at `start`.\n",
      "  return get_prediction_index(\n",
      "C:\\Users\\VISHNU MN\\anaconda3\\Lib\\site-packages\\statsmodels\\tsa\\base\\tsa_model.py:836: FutureWarning: No supported index is available. In the next version, calling this method in a model without a supported index will result in an exception.\n",
      "  return get_prediction_index(\n"
     ]
    }
   ],
   "source": [
    "\n",
    "\n",
    "# 1. Build ARIMA model (p=1, d=1, q=1 as a start)\n",
    "model = ARIMA(murder[\"Murder\"], order=(1,1,1))\n",
    "\n",
    "# 2. Fit the model\n",
    "model_fit = model.fit()\n",
    "\n",
    "# 3. Print summary (optional)\n",
    "print(model_fit.summary())\n",
    "\n",
    "# Forecast 1 year ahead (2026)\n",
    "forecast = model_fit.forecast(steps=1)\n",
    "\n",
    "# Option 1: Use .iloc to get the value\n",
    "print(\"Predicted Murder Cases for 2026:\", forecast.iloc[0])\n",
    "\n",
    "# Option 2: Just print the whole forecast series\n",
    "print(forecast)\n"
   ]
  },
  {
   "cell_type": "markdown",
   "id": "d823fe1f-88b2-4c5f-b48e-dd11824ad7dd",
   "metadata": {},
   "source": [
    "## STEP 9: VISALIZATION (Actual v/s forcast)"
   ]
  },
  {
   "cell_type": "code",
   "execution_count": 19,
   "id": "0212ef4e-a8ca-4502-9318-d0099b8a7456",
   "metadata": {},
   "outputs": [
    {
     "data": {
      "image/png": "[encoded data removed]",
      "text/plain": [
       "<Figure size 640x480 with 1 Axes>"
      ]
     },
     "metadata": {},
     "output_type": "display_data"
    }
   ],
   "source": [
    "\n",
    "plt.plot(murder.index, murder[\"Murder\"], label=\"Actual\")\n",
    "plt.plot([2026], [forecast.iloc[0]], \"ro\", label=\"Forecast 2026\")\n",
    "plt.xlabel(\"Year\")\n",
    "plt.ylabel(\"Murder Cases\")\n",
    "plt.title(\"Murder Cases Forecast (ARIMA)\")\n",
    "plt.legend()\n",
    "plt.show()\n"
   ]
  },
  {
   "cell_type": "code",
   "execution_count": 20,
   "id": "f49d6727-9030-4694-bf08-49037dcb7993",
   "metadata": {},
   "outputs": [
    {
     "name": "stdout",
     "output_type": "stream",
     "text": [
      "\n",
      "After Differencing:\n",
      "ADF Statistic: -6.46673374916844\n",
      "p-value: 1.3992357479862034e-08\n"
     ]
    }
   ],
   "source": [
    "\n",
    "#  Select the series (Murder cases)\n",
    "series = murder['Murder']\n",
    "\n",
    "\n",
    "series_diff = series.diff().dropna()\n",
    "\n",
    "# Run ADF Test Again on Differenced Series\n",
    "result_diff = adfuller(series_diff)\n",
    "print(\"\\nAfter Differencing:\")\n",
    "print(\"ADF Statistic:\", result_diff[0])\n",
    "print(\"p-value:\", result_diff[1])\n"
   ]
  },
  {
   "cell_type": "markdown",
   "id": "77ef1383-dc26-4531-8cd0-641d86959875",
   "metadata": {},
   "source": [
    "## STEP 10:FORCAST 5 YEARS(2026-2030 MURDER)"
   ]
  },
  {
   "cell_type": "code",
   "execution_count": 64,
   "id": "a304d30c-a2af-4335-afdc-ed1886cef17b",
   "metadata": {},
   "outputs": [
    {
     "name": "stdout",
     "output_type": "stream",
     "text": [
      "2026    339.849635\n",
      "2027    335.599122\n",
      "2028    338.687667\n",
      "2029    336.443441\n",
      "2030    338.074160\n",
      "Name: predicted_mean, dtype: float64\n"
     ]
    },
    {
     "name": "stderr",
     "output_type": "stream",
     "text": [
      "C:\\Users\\VISHNU MN\\anaconda3\\Lib\\site-packages\\statsmodels\\tsa\\base\\tsa_model.py:836: ValueWarning: No supported index is available. Prediction results will be given with an integer index beginning at `start`.\n",
      "  return get_prediction_index(\n",
      "C:\\Users\\VISHNU MN\\anaconda3\\Lib\\site-packages\\statsmodels\\tsa\\base\\tsa_model.py:836: FutureWarning: No supported index is available. In the next version, calling this method in a model without a supported index will result in an exception.\n",
      "  return get_prediction_index(\n"
     ]
    }
   ],
   "source": [
    "\n",
    "forecast = model_fit.get_forecast(steps=5).predicted_mean\n",
    "forecast.index = [2026, 2027, 2028, 2029, 2030,]\n",
    "print(forecast)\n"
   ]
  },
  {
   "cell_type": "markdown",
   "id": "35e9d9d1-69ea-41d6-aa51-d37bb4a9b536",
   "metadata": {},
   "source": [
    "##  STEP 11: MODEL EVALUVATION"
   ]
  },
  {
   "cell_type": "code",
   "execution_count": 63,
   "id": "27ed2f70-8b20-49cc-b1f1-62fdd5fad847",
   "metadata": {},
   "outputs": [
    {
     "name": "stdout",
     "output_type": "stream",
     "text": [
      "Actual (2023–2024):\n",
      "[[352]\n",
      " [335]]\n",
      "Predicted (2023–2024):\n",
      "[339.84963497 335.59912175]\n",
      "\n",
      "Evaluation Metrics:\n",
      "MSE : 73.99515860627316\n",
      "RMSE: 8.60204386214539\n",
      "MAE : 6.374743387246411\n"
     ]
    },
    {
     "name": "stderr",
     "output_type": "stream",
     "text": [
      "C:\\Users\\VISHNU MN\\anaconda3\\Lib\\site-packages\\statsmodels\\tsa\\base\\tsa_model.py:473: ValueWarning: An unsupported index was provided and will be ignored when e.g. forecasting.\n",
      "  self._init_dates(dates, freq)\n",
      "C:\\Users\\VISHNU MN\\anaconda3\\Lib\\site-packages\\statsmodels\\tsa\\base\\tsa_model.py:473: ValueWarning: An unsupported index was provided and will be ignored when e.g. forecasting.\n",
      "  self._init_dates(dates, freq)\n",
      "C:\\Users\\VISHNU MN\\anaconda3\\Lib\\site-packages\\statsmodels\\tsa\\base\\tsa_model.py:473: ValueWarning: An unsupported index was provided and will be ignored when e.g. forecasting.\n",
      "  self._init_dates(dates, freq)\n",
      "C:\\Users\\VISHNU MN\\anaconda3\\Lib\\site-packages\\statsmodels\\tsa\\base\\tsa_model.py:836: ValueWarning: No supported index is available. Prediction results will be given with an integer index beginning at `start`.\n",
      "  return get_prediction_index(\n",
      "C:\\Users\\VISHNU MN\\anaconda3\\Lib\\site-packages\\statsmodels\\tsa\\base\\tsa_model.py:836: FutureWarning: No supported index is available. In the next version, calling this method in a model without a supported index will result in an exception.\n",
      "  return get_prediction_index(\n"
     ]
    }
   ],
   "source": [
    "from sklearn.metrics import mean_squared_error, mean_absolute_error\n",
    "import numpy as np\n",
    "\n",
    "# 1. Split data (2016–2022 → train, 2023–2024 → test)\n",
    "train = murder[:7]   # first 7 years (2016–2022)\n",
    "test = murder[7:]    # last 2 years (2023–2024)\n",
    "\n",
    "# 2. Fit ARIMA on training data\n",
    "model = ARIMA(train, order=(1,1,1))\n",
    "model_fit = model.fit()\n",
    "\n",
    "# 3. Forecast for 2 years (2023–2024)\n",
    "forecast = model_fit.forecast(steps=2)\n",
    "\n",
    "# 4. Evaluate\n",
    "mse = mean_squared_error(test, forecast)\n",
    "rmse = np.sqrt(mse)\n",
    "mae = mean_absolute_error(test, forecast)\n",
    "\n",
    "print(\"Actual (2023–2024):\")\n",
    "print(test.values)\n",
    "print(\"Predicted (2023–2024):\")\n",
    "print(forecast.values)\n",
    "\n",
    "print(\"\\nEvaluation Metrics:\")\n",
    "print(\"MSE :\", mse)\n",
    "print(\"RMSE:\", rmse)\n",
    "print(\"MAE :\", mae)\n"
   ]
  },
  {
   "cell_type": "markdown",
   "id": "ce1ea2ef-4f1a-48a6-a4c9-083588e399dc",
   "metadata": {},
   "source": [
    "# FINDINGS"
   ]
  },
  {
   "cell_type": "markdown",
   "id": "2189730e-2b9c-43d0-be66-b8fc7e44ec77",
   "metadata": {},
   "source": [
    "\n",
    "# 1.Trend of Murder Cases (2016–2024):\n",
    "\n",
    "#### * The number of murders showed fluctuations over the years.\n",
    "\n",
    "#### * No strong upward or downward long-term trend was observed.\n",
    "\n",
    "# 2.Stationarity Test:\n",
    "\n",
    "#### * The data was not stationary (p-value > 0.05).\n",
    "\n",
    "#### * This means the raw data had patterns that ARIMA needed to adjust (by differencing).\n",
    "\n",
    "# 4. Future Predictions (2026–2030):\n",
    "\n",
    "#### * Approximate range: 335–350 murder cases per year.\n",
    "\n",
    "#### * No extreme increase or decrease is expected.\n",
    "\n",
    "# 5. Practical Implication:\n",
    "\n",
    "#### * Authorities can focus on maintaining consistent crime prevention measures.\n",
    "\n",
    "#### * Emphasis should be on strengthening community safety programs rather than preparing for sudden spikes"
   ]
  },
  {
   "cell_type": "code",
   "execution_count": null,
   "id": "38011b5e-bd53-46ee-a3e5-fa628b284d64",
   "metadata": {},
   "outputs": [],
   "source": []
  }
 ],
 "metadata": {
  "kernelspec": {
   "display_name": "Python [conda env:base] *",
   "language": "python",
   "name": "conda-base-py"
  },
  "language_info": {
   "codemirror_mode": {
    "name": "ipython",
    "version": 3
   },
   "file_extension": ".py",
   "mimetype": "text/x-python",
   "name": "python",
   "nbconvert_exporter": "python",
   "pygments_lexer": "ipython3",
   "version": "3.12.7"
  }
 },
 "nbformat": 4,
 "nbformat_minor": 5
}
